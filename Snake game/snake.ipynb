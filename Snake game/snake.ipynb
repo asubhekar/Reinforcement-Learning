{
 "cells": [
  {
   "cell_type": "code",
   "execution_count": 28,
   "metadata": {},
   "outputs": [],
   "source": [
    "import pygame\n",
    "import random\n",
    "from enum import Enum\n",
    "from collections import namedtuple\n",
    "import numpy as np"
   ]
  },
  {
   "cell_type": "code",
   "execution_count": 29,
   "metadata": {},
   "outputs": [
    {
     "data": {
      "text/plain": [
       "(5, 0)"
      ]
     },
     "execution_count": 29,
     "metadata": {},
     "output_type": "execute_result"
    }
   ],
   "source": [
    "pygame.init()\n"
   ]
  },
  {
   "cell_type": "code",
   "execution_count": 30,
   "metadata": {},
   "outputs": [],
   "source": [
    "class Direction(Enum):\n",
    "    RIGHT = 1\n",
    "    LEFT = 2 \n",
    "    DOWN = 4\n",
    "    UP = 3"
   ]
  },
  {
   "cell_type": "code",
   "execution_count": 31,
   "metadata": {},
   "outputs": [],
   "source": [
    "Point = namedtuple('Point','x,y')\n",
    "\n",
    "# Colors\n",
    "WHITE = (255, 255, 255)\n",
    "RED = (255, 0, 0)\n",
    "BLUE1 = (0, 0, 255)\n",
    "BLUE2 = (0, 100, 255)\n",
    "BLACK = (0,0,0)\n",
    "font = pygame.font.Font('arial.ttf', 25)\n",
    "BLOCK_SIZE = 20\n",
    "SPEED = 10"
   ]
  },
  {
   "cell_type": "code",
   "execution_count": 32,
   "metadata": {},
   "outputs": [],
   "source": [
    "class SnakeGameHuman:\n",
    "\n",
    "    def __init__(self, w = 640, h = 480):\n",
    "        self.w = w\n",
    "        self.h = h\n",
    "\n",
    "        # Initializing the display\n",
    "        self.display = pygame.display.set_mode((self.w, self.h))\n",
    "        pygame.display.set_caption('Snake Game')\n",
    "        self.clock = pygame.time.Clock()\n",
    "\n",
    "        # Initializing the game state\n",
    "        self.direction = Direction.RIGHT\n",
    "        self.head = Point(self.w/2, self.h/2)\n",
    "        self.snake = [self.head, Point(self.head.x - BLOCK_SIZE, self.head.y), Point(self.head.x - (2*BLOCK_SIZE), self.head.y)]\n",
    "        self.score = 0\n",
    "        self.food = None\n",
    "        self._place_food()\n",
    "\n",
    "    def _move(self, direction):\n",
    "\n",
    "        x = self.head.x\n",
    "        y = self.head.y\n",
    "\n",
    "        if direction == Direction.RIGHT:\n",
    "            x += BLOCK_SIZE\n",
    "        elif direction == Direction.LEFT:\n",
    "            x -= BLOCK_SIZE\n",
    "        elif direction == Direction.DOWN:\n",
    "            y += BLOCK_SIZE\n",
    "        elif direction == Direction.UP:\n",
    "            y -= BLOCK_SIZE\n",
    "\n",
    "        self.head = Point(x,y)\n",
    "\n",
    "    def _place_food(self):\n",
    "        x = random.randint(0, (self.w - BLOCK_SIZE) // BLOCK_SIZE) * BLOCK_SIZE\n",
    "        y = random.randint(0, (self.h - BLOCK_SIZE) // BLOCK_SIZE) * BLOCK_SIZE\n",
    "\n",
    "        self.food = Point(x,y)\n",
    "\n",
    "        if self.food in self.snake:\n",
    "            self._place_food()\n",
    "\n",
    "    def _is_collision(self):\n",
    "        \n",
    "        # Checking if the snake hits the boundary\n",
    "        if self.head.x > self.w - BLOCK_SIZE or self.head.x < 0 or self.head.y > self.h - BLOCK_SIZE  or self.head.y < 0:\n",
    "            return True\n",
    "        \n",
    "        # Checking if the snake hits itself\n",
    "        if self.head in self.snake[1:]:\n",
    "            return True\n",
    "\n",
    "        return False\n",
    "\n",
    "\n",
    "    \n",
    "    def play_step(self):\n",
    "\n",
    "        # Taking user input\n",
    "        for event in pygame.event.get():\n",
    "            if event.type == pygame.QUIT:\n",
    "                pygame.quit()\n",
    "                quit()\n",
    "\n",
    "            if event.type == pygame.KEYDOWN:\n",
    "                if event.key == pygame.K_a:\n",
    "                    self.direction = Direction.LEFT\n",
    "                elif event.key ==pygame.K_d:\n",
    "                    self.direction = Direction.RIGHT\n",
    "                elif event.key == pygame.K_w:\n",
    "                    self.direction = Direction.UP\n",
    "                elif event.key == pygame.K_s:\n",
    "                    self.direction = Direction.DOWN\n",
    "\n",
    "        # Character movement\n",
    "        self._move(self.direction) # Updating the head\n",
    "        self.snake.insert(0, self.head)\n",
    "\n",
    "        # Check if the game is over\n",
    "        game_over = False\n",
    "\n",
    "        if self._is_collision():\n",
    "            game_over = True\n",
    "            return game_over, self.score\n",
    "        \n",
    "        # Putting new food if the old one is consumed by the snake or making the snake move ahead\n",
    "        if self.head == self.food:\n",
    "            self.score += 1\n",
    "            self._place_food()\n",
    "        else:\n",
    "            self.snake.pop()\n",
    "        \n",
    "        self._update_ui()\n",
    "        self.clock.tick(SPEED)\n",
    "        return game_over, self.score\n",
    "    \n",
    "\n",
    "    def _update_ui(self):\n",
    "        self.display.fill(BLACK)\n",
    "        for pt in self.snake:\n",
    "            pygame.draw.rect(self.display, BLUE1, pygame.Rect(pt.x, pt.y, BLOCK_SIZE, BLOCK_SIZE))\n",
    "            pygame.draw.rect(self.display, BLUE2, pygame.Rect(pt.x+4, pt.y+4, 12, 12))\n",
    "\n",
    "        pygame.draw.rect(self.display, RED, pygame.Rect(self.food.x, self.food.y, BLOCK_SIZE, BLOCK_SIZE))\n",
    "\n",
    "        text = font.render('Score = ' +str(self.score), True, WHITE)\n",
    "\n",
    "        self.display.blit(text, [0,0])\n",
    "        pygame.display.flip()"
   ]
  },
  {
   "cell_type": "code",
   "execution_count": null,
   "metadata": {},
   "outputs": [
    {
     "name": "stdout",
     "output_type": "stream",
     "text": [
      "Final Score =  7\n"
     ]
    }
   ],
   "source": [
    "if __name__ == '__main__':\n",
    "    game = SnakeGameHuman()\n",
    "\n",
    "    while True:\n",
    "        game_over, score = game.play_step()\n",
    "\n",
    "        if game_over == True:\n",
    "            break\n",
    "\n",
    "    print(\"Final Score = \", score)\n",
    "\n",
    "    pygame.quit()\n",
    "    "
   ]
  },
  {
   "cell_type": "code",
   "execution_count": null,
   "metadata": {},
   "outputs": [],
   "source": []
  },
  {
   "cell_type": "code",
   "execution_count": null,
   "metadata": {},
   "outputs": [],
   "source": []
  }
 ],
 "metadata": {
  "kernelspec": {
   "display_name": "rlenv",
   "language": "python",
   "name": "python3"
  },
  "language_info": {
   "codemirror_mode": {
    "name": "ipython",
    "version": 3
   },
   "file_extension": ".py",
   "mimetype": "text/x-python",
   "name": "python",
   "nbconvert_exporter": "python",
   "pygments_lexer": "ipython3",
   "version": "3.12.2"
  }
 },
 "nbformat": 4,
 "nbformat_minor": 2
}
